{
 "cells": [
  {
   "cell_type": "code",
   "execution_count": 19,
   "metadata": {
    "id": "c6KXfDuYGCHl"
   },
   "outputs": [],
   "source": [
    "from sklearn.impute import SimpleImputer\n",
    "from sklearn.preprocessing import StandardScaler\n",
    "import pandas as pd\n",
    "import os\n"
   ]
  },
  {
   "cell_type": "code",
   "execution_count": 20,
   "metadata": {
    "id": "4mqvEQshGI5m"
   },
   "outputs": [],
   "source": [
    "data = pd.read_csv('/home/leire/Documentos/Cursos/F5/Proyectos/refuerzo/repositorio/Leire_Teleco/data/processed/data_cleaned.csv')"
   ]
  },
  {
   "cell_type": "code",
   "execution_count": 21,
   "metadata": {
    "id": "y4zPYPbfGWEL"
   },
   "outputs": [],
   "source": [
    "# Separar numéricas y categóricas\n",
    "numeric_cols = data.select_dtypes(include=[\"int64\", \"float64\"]).columns\n",
    "categorical_cols = data.select_dtypes(include=[\"object\", \"category\"]).columns"
   ]
  },
  {
   "cell_type": "code",
   "execution_count": 22,
   "metadata": {
    "id": "wSa0RqBNGjs5"
   },
   "outputs": [
    {
     "name": "stdout",
     "output_type": "stream",
     "text": [
      "Valores faltantes imputados.\n"
     ]
    }
   ],
   "source": [
    "# Separar columnas numéricas y categóricas\n",
    "numeric_cols = data.select_dtypes(include=['int64', 'float64']).columns\n",
    "categorical_cols = data.select_dtypes(include=['object', 'category']).columns\n",
    "\n",
    "# Imputar columnas numéricas con la media\n",
    "numeric_imputer = SimpleImputer(strategy='mean')\n",
    "data[numeric_cols] = numeric_imputer.fit_transform(data[numeric_cols])\n",
    "\n",
    "# Imputar columnas categóricas con la moda\n",
    "categorical_imputer = SimpleImputer(strategy='most_frequent')\n",
    "data[categorical_cols] = categorical_imputer.fit_transform(data[categorical_cols])\n",
    "\n",
    "print(\"Valores faltantes imputados.\")"
   ]
  },
  {
   "cell_type": "markdown",
   "metadata": {
    "id": "TXOW95tJElsY"
   },
   "source": [
    "#normalizacion"
   ]
  },
  {
   "cell_type": "code",
   "execution_count": 23,
   "metadata": {
    "id": "JCLsniIdC-4c"
   },
   "outputs": [],
   "source": [
    "scaler = StandardScaler()\n",
    "data[numeric_cols] = scaler.fit_transform(data[numeric_cols])"
   ]
  },
  {
   "cell_type": "markdown",
   "metadata": {
    "id": "cJ_UG2fln1jy"
   },
   "source": [
    "#Guardado"
   ]
  },
  {
   "cell_type": "code",
   "execution_count": 24,
   "metadata": {
    "id": "GvU_fIcVGd4R"
   },
   "outputs": [
    {
     "name": "stdout",
     "output_type": "stream",
     "text": [
      "Datos procesados guardados en: ../data/processed/data_prepared.csv\n"
     ]
    }
   ],
   "source": [
    "processed_path = \"../data/processed/\"\n",
    "os.makedirs(processed_path, exist_ok=True)  #\n",
    "\n",
    "# Guarda el archivo\n",
    "file_path = os.path.join(processed_path, \"data_prepared.csv\")\n",
    "data.to_csv(file_path, index=False)\n",
    "\n",
    "print(f\"Datos procesados guardados en: {file_path}\")"
   ]
  }
 ],
 "metadata": {
  "colab": {
   "provenance": []
  },
  "kernelspec": {
   "display_name": "venv",
   "language": "python",
   "name": "python3"
  },
  "language_info": {
   "codemirror_mode": {
    "name": "ipython",
    "version": 3
   },
   "file_extension": ".py",
   "mimetype": "text/x-python",
   "name": "python",
   "nbconvert_exporter": "python",
   "pygments_lexer": "ipython3",
   "version": "3.12.3"
  }
 },
 "nbformat": 4,
 "nbformat_minor": 0
}
