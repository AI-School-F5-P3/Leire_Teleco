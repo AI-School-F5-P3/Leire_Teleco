{
 "cells": [
  {
   "cell_type": "code",
   "execution_count": null,
   "metadata": {
    "id": "B_-sQAZCDAnI"
   },
   "outputs": [],
   "source": [
    "\n",
    "\n",
    "import pandas as pd\n",
    "import numpy as np\n",
    "import seaborn as sns\n",
    "import matplotlib.pyplot as plt\n",
    "from scipy import stats\n",
    "from sklearn.preprocessing import StandardScaler\n",
    "from sklearn.impute import SimpleImputer\n",
    "from statsmodels.stats.outliers_influence import variance_inflation_factor\n",
    "from collections import Counter\n",
    "import os\n"
   ]
  },
  {
   "cell_type": "code",
   "execution_count": null,
   "metadata": {
    "id": "fEPFhLxfEPzp"
   },
   "outputs": [],
   "source": [
    "\n",
    "data = pd.read_csv(\"dataset.csv\")\n",
    "\n",
    "# Crear carpeta para guardar gráficos\n",
    "output_folder = \"eda_visualizations\"\n",
    "os.makedirs(output_folder, exist_ok=True)\n"
   ]
  },
  {
   "cell_type": "code",
   "execution_count": null,
   "metadata": {
    "id": "drlSBzYXyGEX"
   },
   "outputs": [],
   "source": [
    "# Ajustar el estilo de las gráficas\n",
    "sns.set_palette('pastel')"
   ]
  },
  {
   "cell_type": "code",
   "execution_count": null,
   "metadata": {
    "id": "Akpa-yWG9gWP"
   },
   "outputs": [],
   "source": [
    "# Mapear valores categóricos para facilitar interpretación\n",
    "if 'gender' in data.columns:\n",
    "    data['gender_label'] = data['gender'].map({0: 'Mujer', 1: 'Hombre'})\n",
    "if 'marital' in data.columns:\n",
    "    data['marital_label'] = data['marital'].map({0: 'Soltero', 1: 'Casado'})\n",
    "if 'retire' in data.columns:\n",
    "    data['retire_label'] = data['retire'].map({0: 'No Jubilado', 1: 'Jubilado'})"
   ]
  },
  {
   "cell_type": "code",
   "execution_count": null,
   "metadata": {
    "colab": {
     "base_uri": "https://localhost:8080/"
    },
    "id": "yVkKi5guEVAT",
    "outputId": "2b9b28bf-1649-438d-a249-2b2b25fe8ec3"
   },
   "outputs": [],
   "source": [
    "# Inspeccionar las primeras filas\n",
    "print(\"Primeras filas\")\n",
    "print(\"_________________\")\n",
    "print(data.head())\n",
    "\n",
    "#informacion general\n",
    "print(\"_________________\")\n",
    "print(\"Información del dataset:\")\n",
    "print(\"_________________\")\n",
    "print(data.info())\n",
    "\n",
    "# Resumen estadístico\n",
    "print(\"_________________\")\n",
    "print(\"Resumen estadístico\")\n",
    "print(\"_________________\")\n",
    "print(data.describe())\n",
    "\n",
    "# Verificar valores nulos\n",
    "print(\"_________________\")\n",
    "print(\"Valores nulos\")\n",
    "print(\"_________________\")\n",
    "print(data.isnull().sum())"
   ]
  },
  {
   "cell_type": "markdown",
   "metadata": {
    "id": "FBJxar3PFHW1"
   },
   "source": [
    "#visualizar distribuciones"
   ]
  },
  {
   "cell_type": "code",
   "execution_count": null,
   "metadata": {
    "colab": {
     "base_uri": "https://localhost:8080/",
     "height": 1000
    },
    "id": "lRxaTog0FJ8K",
    "outputId": "6fb2e12c-a54f-4621-a186-ec54ac01fd53"
   },
   "outputs": [],
   "source": [
    "# Variables numéricas\n",
    "numeric_cols = data.select_dtypes(include=['int64', 'float64']).columns\n",
    "target_col = \"custcat\"\n",
    "\n",
    "# Distribuciones de variables numéricas\n",
    "fig, axes = plt.subplots(len(numeric_cols), 3, figsize=(20, 5 * len(numeric_cols)))\n",
    "\n",
    "for i, col in enumerate(numeric_cols):\n",
    "    # Histograma con KDE\n",
    "    sns.histplot(data[col], kde=True, ax=axes[i, 0])\n",
    "    axes[i, 0].set_title(f'Distribución de {col}')\n",
    "    axes[i, 0].set_xlabel(col)\n",
    "    axes[i, 0].set_ylabel('Frecuencia')\n",
    "\n",
    "    # Boxplot para detección de outliers\n",
    "    sns.boxplot(x=data[col], ax=axes[i, 1])\n",
    "    axes[i, 1].set_title(f'Boxplot de {col}')\n",
    "    axes[i, 1].set_xlabel(col)\n",
    "\n",
    "    # Q-Q Plot para evaluar normalidad\n",
    "    stats.probplot(data[col], dist=\"norm\", plot=axes[i, 2])\n",
    "    axes[i, 2].set_title(f'Q-Q Plot de {col}')\n",
    "\n",
    "plt.tight_layout()\n",
    "plt.savefig(os.path.join(output_folder, 'distributions_outliers_qqplots.png'))\n",
    "plt.show()\n",
    "\n",
    "# Relación entre variables numéricas y la variable objetivo\n",
    "fig, axes = plt.subplots(len(numeric_cols) // 2 + len(numeric_cols) % 2, 2, figsize=(15, 12))\n",
    "axes = axes.flatten()\n",
    "\n",
    "for i, col in enumerate(numeric_cols):\n",
    "    sns.boxplot(x=target_col, y=col, data=data, ax=axes[i])\n",
    "    axes[i].set_title(f'{col} por clase de {target_col}')\n",
    "    axes[i].set_xlabel('Clase')\n",
    "    axes[i].set_ylabel(col)\n",
    "\n",
    "plt.tight_layout()\n",
    "plt.savefig(os.path.join(output_folder, 'numeric_vs_target.png'))\n",
    "plt.show()\n",
    "\n",
    "# Relación entre variables categóricas y la variable objetivo\n",
    "categorical_cols = data.select_dtypes(include=['object', 'category']).columns\n",
    "\n",
    "fig, axes = plt.subplots(len(categorical_cols), 1, figsize=(15, 5 * len(categorical_cols)))\n",
    "\n",
    "for i, col in enumerate(categorical_cols):\n",
    "    sns.countplot(x=col, hue=target_col, data=data, palette='viridis', ax=axes[i])\n",
    "    axes[i].set_title(f'Relación entre {col} y {target_col}')\n",
    "    axes[i].set_xlabel(col)\n",
    "    axes[i].set_ylabel('Frecuencia')\n",
    "\n",
    "plt.tight_layout()\n",
    "plt.savefig(os.path.join(output_folder, 'categorical_vs_target.png'))\n",
    "plt.show()\n",
    "\n",
    "# 4. Relaciones entre variables numéricas (Pairplot)\n",
    "sns.pairplot(data[numeric_cols], diag_kind='kde', corner=True, hue=target_col, palette='viridis')\n",
    "plt.savefig(os.path.join(output_folder, 'pairplot_numeric.png'))\n",
    "plt.show()\n"
   ]
  },
  {
   "cell_type": "markdown",
   "metadata": {
    "id": "GhJGBd-yFN0D"
   },
   "source": [
    "#detección outliers"
   ]
  },
  {
   "cell_type": "code",
   "execution_count": null,
   "metadata": {
    "colab": {
     "base_uri": "https://localhost:8080/"
    },
    "id": "2TSK938pFPyF",
    "outputId": "765aca2e-34ea-4977-9a2f-81d868fedc3c"
   },
   "outputs": [],
   "source": [
    "\n",
    "# Lista para almacenar los índices de los outliers\n",
    "outlier_indices = []\n",
    "\n",
    "# Número de columnas en las que un índice debe ser outlier para considerarse múltiple\n",
    "n = 2\n",
    "\n",
    "# Iterar sobre las columnas numéricas\n",
    "for col in numeric_cols:\n",
    "    # Calcular los cuartiles y el IQR\n",
    "    Q1 = np.percentile(data[col], 25)\n",
    "    Q3 = np.percentile(data[col], 75)\n",
    "    IQR = Q3 - Q1\n",
    "    outlier_step = 1.5 * IQR\n",
    "\n",
    "    # Identificar los índices que son outliers para la columna actual\n",
    "    outlier_list_col = data[(data[col] < Q1 - outlier_step) | (data[col] > Q3 + outlier_step)].index\n",
    "    outlier_indices.extend(outlier_list_col)\n",
    "\n",
    "# Contar cuántas veces cada índice aparece como outlier\n",
    "outlier_counts = Counter(outlier_indices)\n",
    "\n",
    "# Filtrar los índices que son outliers en más de `n` columnas\n",
    "multiple_outliers = [k for k, v in outlier_counts.items() if v > n]\n",
    "\n",
    "# Imprimir el número de outliers detectados\n",
    "print(f\"Número de outliers detectados: {len(multiple_outliers)}\")\n",
    "\n"
   ]
  },
  {
   "cell_type": "markdown",
   "metadata": {
    "id": "_-foCwxEFw_V"
   },
   "source": [
    "#Matriz correlación"
   ]
  },
  {
   "cell_type": "code",
   "execution_count": null,
   "metadata": {},
   "outputs": [],
   "source": [
    "\n",
    "numeric_cols = data.select_dtypes(include=['int64', 'float64']).columns #variables numéricas\n",
    "\n",
    "# Calcular matriz de correlación\n",
    "correlation_matrix = data[numeric_cols].corr()\n",
    "\n",
    "# Guardar la matriz de correlación en un archivo CSV\n",
    "correlation_csv_path = os.path.join(output_folder, 'correlation_matrix.csv')\n",
    "correlation_matrix.to_csv(correlation_csv_path, index=True)\n",
    "print(f\"Matriz de correlación guardada en {correlation_csv_path}\")\n",
    "\n",
    "\n",
    "plt.figure(figsize=(12, 10))\n",
    "sns.heatmap(correlation_matrix, annot=True, fmt=\".2f\", cmap='coolwarm', linewidths=0.5)\n",
    "plt.title('Matriz de Correlación')\n",
    "\n",
    "\n",
    "correlation_png_path = os.path.join(output_folder, 'correlation_matrix.png')\n",
    "plt.savefig(correlation_png_path)\n",
    "print(f\"Gráfico de matriz de correlación guardado en {correlation_png_path}\")\n",
    "plt.show()"
   ]
  },
  {
   "cell_type": "markdown",
   "metadata": {},
   "source": [
    "#VIF (factor de inflación de la varianza)"
   ]
  },
  {
   "cell_type": "code",
   "execution_count": null,
   "metadata": {
    "colab": {
     "base_uri": "https://localhost:8080/",
     "height": 1000
    },
    "id": "9fnX6qpuFzAW",
    "outputId": "0c872b20-246e-4ad0-d455-32f1b092f4cc"
   },
   "outputs": [],
   "source": [
    "# Ruta del archivo de VIF generado por feature_engineering.py\n",
    "vif_file = \"../results/vif_analysis.csv\"\n",
    "\n",
    "# Comprobar si el archivo existe\n",
    "if os.path.exists(vif_file):\n",
    "    # Cargar los resultados del VIF\n",
    "    vif_data = pd.read_csv(vif_file)\n",
    "\n",
    "    # Visualización del VIF\n",
    "    plt.figure(figsize=(10, 6))\n",
    "    plt.barh(vif_data[\"feature\"], vif_data[\"VIF\"], color=\"skyblue\")\n",
    "    plt.xlabel(\"VIF\")\n",
    "    plt.ylabel(\"Feature\")\n",
    "    plt.title(\"Variance Inflation Factor (VIF) por Característica\")\n",
    "    plt.grid(axis=\"x\", linestyle=\"--\", alpha=0.7)\n",
    "    plt.tight_layout()\n",
    "    plt.show()\n",
    "\n",
    "else:\n",
    "    print(f\"Archivo {vif_file} no encontrado. Ejecuta feature_engineering.py para generarlo.\")\n",
    "\n",
    "# Guardar los resultados en un archivo CSV para referencia\n",
    "vif_data.to_csv(os.path.join(output_folder, 'vif_analysis.csv'), index=False)\n"
   ]
  },
  {
   "cell_type": "code",
   "execution_count": null,
   "metadata": {
    "colab": {
     "base_uri": "https://localhost:8080/"
    },
    "id": "ysTP2ZKGP8fe",
    "outputId": "75090e19-b085-407b-fbf2-f485bc06a267"
   },
   "outputs": [],
   "source": [
    "# Ruta para guardar los datos limpios\n",
    "cleaned_data_path = \"../data/processed/data_cleaned.csv\"\n",
    "processed_dir = os.path.dirname(cleaned_data_path)\n",
    "\n",
    "# Crear la carpeta si no existe\n",
    "if not os.path.exists(processed_dir):\n",
    "    os.makedirs(processed_dir)\n",
    "    print(f\"Carpeta creada: {processed_dir}\")\n",
    "\n",
    "# Guardar el archivo\n",
    "data.to_csv(cleaned_data_path, index=False)\n",
    "print(f\"Archivo limpio guardado en: {cleaned_data_path}\")\n",
    "print(\"EDA completado. Las visualizaciones se han guardado en la carpeta 'eda_visualizations'.\")"
   ]
  }
 ],
 "metadata": {
  "colab": {
   "provenance": []
  },
  "kernelspec": {
   "display_name": "venv",
   "language": "python",
   "name": "python3"
  },
  "language_info": {
   "codemirror_mode": {
    "name": "ipython",
    "version": 3
   },
   "file_extension": ".py",
   "mimetype": "text/x-python",
   "name": "python",
   "nbconvert_exporter": "python",
   "pygments_lexer": "ipython3",
   "version": "3.12.3"
  }
 },
 "nbformat": 4,
 "nbformat_minor": 0
}
